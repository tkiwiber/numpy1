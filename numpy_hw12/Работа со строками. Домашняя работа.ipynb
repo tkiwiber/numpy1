{
 "cells": [
  {
   "cell_type": "markdown",
   "metadata": {
    "id": "0TU0EOUCluzI"
   },
   "source": [
    "## Подготовка данных для задания"
   ]
  },
  {
   "cell_type": "code",
   "execution_count": 5,
   "metadata": {
    "colab": {
     "base_uri": "https://localhost:8080/",
     "height": 359
    },
    "executionInfo": {
     "elapsed": 767,
     "status": "ok",
     "timestamp": 1632931510917,
     "user": {
      "displayName": "Ketrin Trofimova",
      "photoUrl": "https://lh3.googleusercontent.com/a/default-user=s64",
      "userId": "05400058012601189465"
     },
     "user_tz": -180
    },
    "id": "xmVmCpFNRbnB",
    "outputId": "7d45e681-de26-4818-be85-8a3853867ef8"
   },
   "outputs": [
    {
     "data": {
      "text/html": [
       "<div>\n",
       "<style scoped>\n",
       "    .dataframe tbody tr th:only-of-type {\n",
       "        vertical-align: middle;\n",
       "    }\n",
       "\n",
       "    .dataframe tbody tr th {\n",
       "        vertical-align: top;\n",
       "    }\n",
       "\n",
       "    .dataframe thead th {\n",
       "        text-align: right;\n",
       "    }\n",
       "</style>\n",
       "<table border=\"1\" class=\"dataframe\">\n",
       "  <thead>\n",
       "    <tr style=\"text-align: right;\">\n",
       "      <th></th>\n",
       "      <th>content</th>\n",
       "      <th>description</th>\n",
       "    </tr>\n",
       "  </thead>\n",
       "  <tbody>\n",
       "    <tr>\n",
       "      <th>0</th>\n",
       "      <td>https://www.ivi.ru/watch/157318/description</td>\n",
       "      <td>Лучший подарок, который только можно было прид...</td>\n",
       "    </tr>\n",
       "    <tr>\n",
       "      <th>1</th>\n",
       "      <td>https://www.ivi.ru/watch/98336/description</td>\n",
       "      <td>Через какие трудности приходится проходить Сан...</td>\n",
       "    </tr>\n",
       "    <tr>\n",
       "      <th>2</th>\n",
       "      <td>https://www.ivi.ru/watch/183533/description</td>\n",
       "      <td>Миловидный Давид - позор для своего отца. Не в...</td>\n",
       "    </tr>\n",
       "    <tr>\n",
       "      <th>3</th>\n",
       "      <td>https://www.ivi.ru/watch/157319/description</td>\n",
       "      <td>Экранизация сатирического бестселлера Стивена ...</td>\n",
       "    </tr>\n",
       "    <tr>\n",
       "      <th>4</th>\n",
       "      <td>https://www.ivi.ru/watch/51342/description</td>\n",
       "      <td>«Леди удача» – авантюрная романтическая комеди...</td>\n",
       "    </tr>\n",
       "    <tr>\n",
       "      <th>5</th>\n",
       "      <td>https://www.ivi.ru/watch/183534/description</td>\n",
       "      <td>На поминках Сюзанна узнает, что Джефф изменял ...</td>\n",
       "    </tr>\n",
       "    <tr>\n",
       "      <th>6</th>\n",
       "      <td>https://www.ivi.ru/watch/112509/description</td>\n",
       "      <td>Культовый японский фильм ужасов, заставляющий ...</td>\n",
       "    </tr>\n",
       "    <tr>\n",
       "      <th>7</th>\n",
       "      <td>https://www.ivi.ru/watch/157320/description</td>\n",
       "      <td>Двое выпускников калифорнийской школы бизнеса ...</td>\n",
       "    </tr>\n",
       "  </tbody>\n",
       "</table>\n",
       "</div>"
      ],
      "text/plain": [
       "                                       content  \\\n",
       "0  https://www.ivi.ru/watch/157318/description   \n",
       "1   https://www.ivi.ru/watch/98336/description   \n",
       "2  https://www.ivi.ru/watch/183533/description   \n",
       "3  https://www.ivi.ru/watch/157319/description   \n",
       "4   https://www.ivi.ru/watch/51342/description   \n",
       "5  https://www.ivi.ru/watch/183534/description   \n",
       "6  https://www.ivi.ru/watch/112509/description   \n",
       "7  https://www.ivi.ru/watch/157320/description   \n",
       "\n",
       "                                         description  \n",
       "0  Лучший подарок, который только можно было прид...  \n",
       "1  Через какие трудности приходится проходить Сан...  \n",
       "2  Миловидный Давид - позор для своего отца. Не в...  \n",
       "3  Экранизация сатирического бестселлера Стивена ...  \n",
       "4  «Леди удача» – авантюрная романтическая комеди...  \n",
       "5  На поминках Сюзанна узнает, что Джефф изменял ...  \n",
       "6  Культовый японский фильм ужасов, заставляющий ...  \n",
       "7  Двое выпускников калифорнийской школы бизнеса ...  "
      ]
     },
     "execution_count": 5,
     "metadata": {},
     "output_type": "execute_result"
    }
   ],
   "source": [
    "import re\n",
    "import pandas as pd\n",
    "import pymorphy2\n",
    "\n",
    "text_df = pd.read_csv(\"content_description.csv\", sep='\\t')\n",
    "#text_df = pd.read_csv(\"./data/content_description.csv\", sep='\\t')\n",
    "text_df.head(10)\n"
   ]
  },
  {
   "cell_type": "code",
   "execution_count": 7,
   "metadata": {},
   "outputs": [
    {
     "name": "stdout",
     "output_type": "stream",
     "text": [
      "['лучший', 'подарок', 'который', 'только', 'можно', 'было', 'придумать', 'для', 'всех', 'поклонников', 'культового', 'сериала', 'рождественский', 'спецвыпуск', 'шерлока', 'в', 'котором', 'абсолютно', 'все', 'будет', 'особенным', 'и', 'старинные', 'костюмы', 'и', 'дух', 'викторианской', 'англии', 'и', 'конечно', 'же', 'покрытая', 'мраком', 'и', 'завесой', 'мистики', 'тайна', 'которую', 'предстоит', 'разгадать', 'гениальному', 'сыщику', 'кроме', 'того', 'создатели', 'сериала', 'обещали', 'оставить', 'для', 'самых', 'внимательных', 'поклонников', 'шерлока', 'подсказки', 'связанные', 'с', 'содержанием', 'четвертого', 'сезона', 'сериала', 'впервые', 'герои', 'современного', 'сериала', 'предстанут', 'в', 'своих', 'книжных', 'образах', 'холмс', 'с', 'трубкой', 'и', 'в', 'охотничьей', 'шляпе', 'а', 'ватсон', 'с', 'усами', 'и', 'в', 'котелке', 'действие', 'перенесено', 'в', '1895', 'год', 'в', 'центре', 'сюжета', 'загадочная', 'история', 'о', 'призраке', 'невесты', 'который', 'наводит', 'ужас', 'на', 'весь', 'город', 'к', 'шерлоку', 'за', 'помощью', 'обращается', 'инспектор', 'лестрейд', 'который', 'расследует', 'дело', 'об', 'убийстве', 'томаса', 'риколетти', 'жена', 'риколетти', 'покончила', 'с', 'собой', 'спустя', 'некоторое', 'время', 'мистер', 'риколетти', 'увидел', 'супругу', 'живой', 'и', 'в', 'свадебном', 'платье', 'после', 'чего', 'покойная', 'эмилия', 'выстрелила', 'в', 'него', 'в', 'чем', 'же', 'разгадка', 'этой', 'таинственной', 'истории', 'можно', 'смотреть', 'онлайн', 'в', 'спецвыпуске', 'шерлок', 'холмс', 'безобразная', 'невеста']\n"
     ]
    }
   ],
   "source": [
    "\n",
    "# разбиваем текст на слова\n",
    "corpus = []\n",
    "# регулярка для поиска слов\n",
    "regular_expr = r'\\w+'\n",
    "reg_expr_compiled = re.compile(regular_expr)\n",
    "\n",
    "# формируем датасет из отдельных слов\n",
    "for raw_text in text_df.description.values:\n",
    "    # приводим к нижнему регистру\n",
    "    raw_text_lower = raw_text.lower()\n",
    "    # разбиваем текст на слова\n",
    "    text_by_words = reg_expr_compiled.findall(raw_text_lower) \n",
    "    corpus.append(text_by_words)\n",
    "\n",
    "print(corpus[0])"
   ]
  },
  {
   "cell_type": "code",
   "execution_count": 11,
   "metadata": {},
   "outputs": [
    {
     "name": "stdout",
     "output_type": "stream",
     "text": [
      "['хороший', 'подарок', 'который', 'только', 'можно', 'быть', 'придумать', 'для', 'весь', 'поклонник', 'культовый', 'сериал', 'рождественский', 'спецвыпуск', 'шерлок', 'в', 'который', 'абсолютно', 'всё', 'быть', 'особенный', 'и', 'старинный', 'костюм', 'и', 'дух', 'викторианский', 'англия', 'и', 'конечно', 'же', 'покрыть', 'мрак', 'и', 'завеса', 'мистика', 'тайна', 'который', 'предстоять', 'разгадать', 'гениальный', 'сыщик', 'кроме', 'тот', 'создатель', 'сериал', 'обещать', 'оставить', 'для', 'самый', 'внимательный', 'поклонник', 'шерлок', 'подсказка', 'связанный', 'с', 'содержание', 'четвёртый', 'сезон', 'сериал', 'впервые', 'герой', 'современный', 'сериал', 'предстать', 'в', 'свой', 'книжный', 'образ', 'холмс', 'с', 'трубка', 'и', 'в', 'охотничий', 'шляпа', 'а', 'ватсон', 'с', 'ус', 'и', 'в', 'котелок', 'действие', 'перенести', 'в', '1895', 'год', 'в', 'центр', 'сюжет', 'загадочный', 'история', 'о', 'призрак', 'невеста', 'который', 'наводить', 'ужас', 'на', 'весь', 'город', 'к', 'шерлок', 'за', 'помощь', 'обращаться', 'инспектор', 'лестрейд', 'который', 'расследовать', 'дело', 'о', 'убийство', 'томас', 'риколетти', 'жена', 'риколетти', 'покончить', 'с', 'себя', 'спустя', 'некоторый', 'время', 'мистер', 'риколетти', 'увидеть', 'супруг', 'живой', 'и', 'в', 'свадебный', 'платье', 'после', 'что', 'покойный', 'эмилия', 'выстрелить', 'в', 'он', 'в', 'чем', 'же', 'разгадка', 'этот', 'таинственный', 'история', 'можно', 'смотреть', 'онлайн', 'в', 'спецвыпуск', 'шерлок', 'холмс', 'безобразный', 'невеста']\n"
     ]
    }
   ],
   "source": [
    "\n",
    "# нормализация текста\n",
    "normalized_corpus = []\n",
    "morph = pymorphy2.MorphAnalyzer()\n",
    "# нормализуем каждое слово в тексте\n",
    "for token_list in corpus:\n",
    "    normalized_token_list = []\n",
    "    for word in token_list:\n",
    "        parsed_token = morph.parse(word)\n",
    "        normal_form = parsed_token[0].normal_form\n",
    "        normalized_token_list.append(normal_form)\n",
    "    normalized_corpus.append(normalized_token_list)\n",
    "\n",
    "print(normalized_corpus[0])"
   ]
  },
  {
   "cell_type": "code",
   "execution_count": 15,
   "metadata": {},
   "outputs": [
    {
     "data": {
      "text/html": [
       "<div>\n",
       "<style scoped>\n",
       "    .dataframe tbody tr th:only-of-type {\n",
       "        vertical-align: middle;\n",
       "    }\n",
       "\n",
       "    .dataframe tbody tr th {\n",
       "        vertical-align: top;\n",
       "    }\n",
       "\n",
       "    .dataframe thead th {\n",
       "        text-align: right;\n",
       "    }\n",
       "</style>\n",
       "<table border=\"1\" class=\"dataframe\">\n",
       "  <thead>\n",
       "    <tr style=\"text-align: right;\">\n",
       "      <th></th>\n",
       "      <th>doc_id</th>\n",
       "      <th>word</th>\n",
       "      <th>dummy</th>\n",
       "    </tr>\n",
       "  </thead>\n",
       "  <tbody>\n",
       "    <tr>\n",
       "      <th>6</th>\n",
       "      <td>0</td>\n",
       "      <td>в</td>\n",
       "      <td>10</td>\n",
       "    </tr>\n",
       "    <tr>\n",
       "      <th>29</th>\n",
       "      <td>0</td>\n",
       "      <td>и</td>\n",
       "      <td>7</td>\n",
       "    </tr>\n",
       "    <tr>\n",
       "      <th>37</th>\n",
       "      <td>0</td>\n",
       "      <td>который</td>\n",
       "      <td>5</td>\n",
       "    </tr>\n",
       "    <tr>\n",
       "      <th>111</th>\n",
       "      <td>0</td>\n",
       "      <td>шерлок</td>\n",
       "      <td>4</td>\n",
       "    </tr>\n",
       "    <tr>\n",
       "      <th>77</th>\n",
       "      <td>0</td>\n",
       "      <td>с</td>\n",
       "      <td>4</td>\n",
       "    </tr>\n",
       "    <tr>\n",
       "      <th>84</th>\n",
       "      <td>0</td>\n",
       "      <td>сериал</td>\n",
       "      <td>4</td>\n",
       "    </tr>\n",
       "    <tr>\n",
       "      <th>75</th>\n",
       "      <td>0</td>\n",
       "      <td>риколетти</td>\n",
       "      <td>3</td>\n",
       "    </tr>\n",
       "    <tr>\n",
       "      <th>31</th>\n",
       "      <td>0</td>\n",
       "      <td>история</td>\n",
       "      <td>2</td>\n",
       "    </tr>\n",
       "    <tr>\n",
       "      <th>21</th>\n",
       "      <td>0</td>\n",
       "      <td>для</td>\n",
       "      <td>2</td>\n",
       "    </tr>\n",
       "    <tr>\n",
       "      <th>49</th>\n",
       "      <td>0</td>\n",
       "      <td>о</td>\n",
       "      <td>2</td>\n",
       "    </tr>\n",
       "  </tbody>\n",
       "</table>\n",
       "</div>"
      ],
      "text/plain": [
       "     doc_id       word  dummy\n",
       "6         0          в     10\n",
       "29        0          и      7\n",
       "37        0    который      5\n",
       "111       0     шерлок      4\n",
       "77        0          с      4\n",
       "84        0     сериал      4\n",
       "75        0  риколетти      3\n",
       "31        0    история      2\n",
       "21        0        для      2\n",
       "49        0          о      2"
      ]
     },
     "execution_count": 15,
     "metadata": {},
     "output_type": "execute_result"
    }
   ],
   "source": [
    "# превращаем в DataFrame\n",
    "doc_count = len(normalized_corpus)\n",
    "doc_ids = []\n",
    "tokens = []\n",
    "# формируем два списка-колонки датафрейма\n",
    "for doc_id in range(doc_count):\n",
    "    for token in normalized_corpus[doc_id]:\n",
    "        doc_ids.append(doc_id)\n",
    "        tokens.append(token)\n",
    "\n",
    "tokens_df = pd.DataFrame({\n",
    "    'doc_id': doc_ids,\n",
    "    'word': tokens\n",
    "})\n",
    "# дамми-столбец\n",
    "tokens_df = tokens_df.assign(dummy = 1)\n",
    "# аггрегируем статистики\n",
    "word_count_df = tokens_df.groupby(['doc_id','word'])['dummy'].count().reset_index()\n",
    "\n",
    "word_count_df[word_count_df.doc_id==0].sort_values(by='dummy', ascending=False).head(10)"
   ]
  },
  {
   "cell_type": "markdown",
   "metadata": {
    "id": "oYSsovIKRbnI"
   },
   "source": [
    "# 12.3  Домашняя работа\n",
    "\n",
    "12.3.1 **Задание простого уровня** Для каждого слова подсчитайте процент документов, в которых содержится это слово. Сформируйте dataframe doc_frequency. Процен документов вычисляется по формуле\n",
    "$$\n",
    "d = \\frac{m}{n} \\times 100\n",
    "$$\n",
    "где $m$ - количество документов, в которых встретилось это слово, а $n$ - общее количество документов. Значение в процентах округлите до целых.\n",
    "\n",
    "Посмотрите какие слова оказались в топе - это предлоги и частицы. Такие слова присутствуют во всех документах, а значит, их можно удалить из текста, чтобы оставшиеся слова были более \"осмысленными\". Это упростит анализ текста."
   ]
  },
  {
   "cell_type": "code",
   "execution_count": 157,
   "metadata": {},
   "outputs": [],
   "source": [
    "def grammemme(word: str) -> str:\n",
    "    p = morph.parse(word)[0]\n",
    "    word_grammemme = p.tag.POS\n",
    "    return str(word_grammemme)\n",
    "\n",
    "doc_frequency = tokens_df.groupby('word', as_index=False).agg({'doc_id': pd.Series.nunique, 'dummy': np.sum}).sort_values('doc_id', ascending=False)\n",
    "\n",
    "grammeme_to_exclude = ['PREP', 'None', 'CONJ', 'PRCL', 'INTJ']\n",
    "unique_doc_number = len(word_count_df['doc_id'].unique())\n",
    "    \n",
    "doc_frequency['grammeme'] = doc_frequency['word'].apply(grammemme)"
   ]
  },
  {
   "cell_type": "code",
   "execution_count": 158,
   "metadata": {},
   "outputs": [],
   "source": [
    "doc_frequency_fin = doc_frequency.copy()\n",
    "doc_frequency_fin = doc_frequency_fin.drop(doc_frequency_fin[doc_frequency_fin.grammeme.isin(grammeme_to_exclude)].index)\n",
    "doc_frequency_fin['freg'] = doc_frequency_fin['doc_id'] / n * 100\n"
   ]
  },
  {
   "cell_type": "code",
   "execution_count": 159,
   "metadata": {},
   "outputs": [
    {
     "data": {
      "text/html": [
       "<div>\n",
       "<style scoped>\n",
       "    .dataframe tbody tr th:only-of-type {\n",
       "        vertical-align: middle;\n",
       "    }\n",
       "\n",
       "    .dataframe tbody tr th {\n",
       "        vertical-align: top;\n",
       "    }\n",
       "\n",
       "    .dataframe thead th {\n",
       "        text-align: right;\n",
       "    }\n",
       "</style>\n",
       "<table border=\"1\" class=\"dataframe\">\n",
       "  <thead>\n",
       "    <tr style=\"text-align: right;\">\n",
       "      <th></th>\n",
       "      <th>word</th>\n",
       "      <th>doc_id</th>\n",
       "      <th>dummy</th>\n",
       "      <th>grammeme</th>\n",
       "      <th>freg</th>\n",
       "    </tr>\n",
       "  </thead>\n",
       "  <tbody>\n",
       "    <tr>\n",
       "      <th>323</th>\n",
       "      <td>он</td>\n",
       "      <td>6</td>\n",
       "      <td>18</td>\n",
       "      <td>NPRO</td>\n",
       "      <td>75.0</td>\n",
       "    </tr>\n",
       "    <tr>\n",
       "      <th>480</th>\n",
       "      <td>свой</td>\n",
       "      <td>6</td>\n",
       "      <td>9</td>\n",
       "      <td>ADJF</td>\n",
       "      <td>75.0</td>\n",
       "    </tr>\n",
       "    <tr>\n",
       "      <th>326</th>\n",
       "      <td>онлайн</td>\n",
       "      <td>6</td>\n",
       "      <td>6</td>\n",
       "      <td>ADVB</td>\n",
       "      <td>75.0</td>\n",
       "    </tr>\n",
       "    <tr>\n",
       "      <th>90</th>\n",
       "      <td>год</td>\n",
       "      <td>5</td>\n",
       "      <td>6</td>\n",
       "      <td>NOUN</td>\n",
       "      <td>62.5</td>\n",
       "    </tr>\n",
       "    <tr>\n",
       "      <th>498</th>\n",
       "      <td>смотреть</td>\n",
       "      <td>5</td>\n",
       "      <td>5</td>\n",
       "      <td>INFN</td>\n",
       "      <td>62.5</td>\n",
       "    </tr>\n",
       "    <tr>\n",
       "      <th>470</th>\n",
       "      <td>сам</td>\n",
       "      <td>4</td>\n",
       "      <td>8</td>\n",
       "      <td>ADJF</td>\n",
       "      <td>50.0</td>\n",
       "    </tr>\n",
       "    <tr>\n",
       "      <th>483</th>\n",
       "      <td>себя</td>\n",
       "      <td>4</td>\n",
       "      <td>4</td>\n",
       "      <td>NPRO</td>\n",
       "      <td>50.0</td>\n",
       "    </tr>\n",
       "    <tr>\n",
       "      <th>565</th>\n",
       "      <td>тот</td>\n",
       "      <td>4</td>\n",
       "      <td>4</td>\n",
       "      <td>ADJF</td>\n",
       "      <td>50.0</td>\n",
       "    </tr>\n",
       "    <tr>\n",
       "      <th>471</th>\n",
       "      <td>самый</td>\n",
       "      <td>4</td>\n",
       "      <td>6</td>\n",
       "      <td>ADJF</td>\n",
       "      <td>50.0</td>\n",
       "    </tr>\n",
       "    <tr>\n",
       "      <th>218</th>\n",
       "      <td>который</td>\n",
       "      <td>4</td>\n",
       "      <td>8</td>\n",
       "      <td>ADJF</td>\n",
       "      <td>50.0</td>\n",
       "    </tr>\n",
       "  </tbody>\n",
       "</table>\n",
       "</div>"
      ],
      "text/plain": [
       "         word  doc_id  dummy grammeme  freg\n",
       "323        он       6     18     NPRO  75.0\n",
       "480      свой       6      9     ADJF  75.0\n",
       "326    онлайн       6      6     ADVB  75.0\n",
       "90        год       5      6     NOUN  62.5\n",
       "498  смотреть       5      5     INFN  62.5\n",
       "470       сам       4      8     ADJF  50.0\n",
       "483      себя       4      4     NPRO  50.0\n",
       "565       тот       4      4     ADJF  50.0\n",
       "471     самый       4      6     ADJF  50.0\n",
       "218   который       4      8     ADJF  50.0"
      ]
     },
     "execution_count": 159,
     "metadata": {},
     "output_type": "execute_result"
    }
   ],
   "source": [
    "doc_frequency_fin.head(10)"
   ]
  },
  {
   "cell_type": "markdown",
   "metadata": {
    "id": "Cfnb-W2uRbnK"
   },
   "source": [
    "12.3.2 **Задание среднего уровня**\n",
    "\n",
    "Воспользуйтесь регулярными выражениями, чтобы извлечь из текста все пары **имя+фамилия**.\n",
    "\n",
    "* неформальное описание регулярки: пара слов идущая друг за другом, каждое из которых начинается с заглавной буквы\n",
    "* анализировать нужно только `doc_id=3`\n",
    "* текст берём из исходного датафрейма `text_df`\n",
    "* заглавная буква в русскоязычном тексте соответствует символьному классу `r'[A-Я]*'`"
   ]
  },
  {
   "cell_type": "code",
   "execution_count": 483,
   "metadata": {
    "id": "fLKkVa_ORbnK"
   },
   "outputs": [
    {
     "data": {
      "text/plain": [
       "'Экранизация сатирического бестселлера Стивена Фрая, мастерски воплощенная британским режиссером и продюсером Джоном Дженксом.   У Теда Уоллеса было славное прошлое, и вот-вот его книги должны были пополнить стройный ряд томов британских классиков. Но его жуткий характер вкупе с алкоголизмом и мизантропией в запущенной стадии испортили все. Теперь Тед зарабатывает на жизнь тем, что поносит в своих статьях спектакли, которые вообще-то не стоят его внимания. И продолжает пить. Вскоре Тед лишается и этого: его бесконечное ворчание достало всю редакцию.  Готовясь к голодной и бесславной смерти, внезапно Уоллес получает выгодное предложение от своей крестницы Джейн. Девушка недавно излечилась от болезни благодаря чуду и теперь предлагает Теду погостить в аристократическом доме, чтобы осветить происходящие здесь чудеса исцеления.  Старый скептик соглашается из корыстных побуждений и даже представить не может, сколько сюрпризов ему уготовано.  Смотреть онлайн эту комедию о том, что даже самые заядлые скептики тайно готовы верить в невозможное, можно на нашем сайте.'"
      ]
     },
     "execution_count": 483,
     "metadata": {},
     "output_type": "execute_result"
    }
   ],
   "source": [
    "# запишите необходимый текст description \n",
    "raw_text = text_df.description.iloc[3]\n",
    "raw_text\n",
    "\n"
   ]
  },
  {
   "cell_type": "code",
   "execution_count": 522,
   "metadata": {},
   "outputs": [],
   "source": [
    "# запишите необходимое регулярное выражение в переменную reg_expr \n",
    "reg_expr = r'[А-Я][а-я]+\\s+[А-Я][а-я]+(?:\\s+[А-Я][а-я]+)?'\n"
   ]
  },
  {
   "cell_type": "code",
   "execution_count": 523,
   "metadata": {},
   "outputs": [],
   "source": [
    "# скомпилированное выражение добавьте в обьёект reg_expr_compiled\n",
    "reg_expr_compiled = re.compile(reg_expr)\n"
   ]
  },
  {
   "cell_type": "code",
   "execution_count": 532,
   "metadata": {},
   "outputs": [
    {
     "name": "stdout",
     "output_type": "stream",
     "text": [
      "Стивена Фрая\n",
      "Джоном Дженксом\n",
      "Теда Уоллеса\n"
     ]
    }
   ],
   "source": [
    "\n",
    "# применяем выражение к тексту\n",
    "for g in reg_expr_compiled.findall(raw_text):\n",
    "    for each in g.split():\n",
    "        if grammemme(each) != 'NOUN':\n",
    "            break\n",
    "    else:\n",
    "        print(g)\n"
   ]
  },
  {
   "cell_type": "markdown",
   "metadata": {
    "id": "nKvd6GYSRbnL"
   },
   "source": [
    "10.3.3 **Задание сложного уровня**. Словарь `genre_dict` содержит слова, которые являются характерными для того или иного жанра. Пользуясь словарём, а так же таблицей `word_count_df`, сформируйте таблицу двумя колонками `doc_id | genre` с жанрами фильмов.\n",
    "\n",
    "Для этого нужно\n",
    "* превратить словарь `genre_dict` в DataFrame формата `word | genre`, сохранить в переменнуб `genres_df`\n",
    "* соединить полученный датафрейм с помощью функции `merge` c ранее полученным датафреймом `word_count_df`, котороый содержит распределение слов по документам. Воспользуйтесь методом соединения `inner`\n",
    "* для каждого документа выбрать жанр документа - это совокупность жанров слов отдельных слов. У одного контента может быть несколько жанров"
   ]
  },
  {
   "cell_type": "code",
   "execution_count": 680,
   "metadata": {
    "id": "8mIEqm72RbnM"
   },
   "outputs": [],
   "source": [
    "import itertools\n",
    "import pandas as pd\n",
    "\n",
    "genre_dict = {\n",
    "    'комедия': ['сатирический', 'авантюрный', 'забавный'],\n",
    "    'мелодрама': ['выбор', 'позор'],\n",
    "    'сказка': ['приключения', 'милый', 'семейный'],\n",
    "    'детектив': ['тайна', 'разгадать', 'загадочный'], \n",
    "    'триллер': ['ужас', 'зловещий', 'нерв']\n",
    "}\n",
    "\n",
    "\n",
    "# -- ВАШ КОД ЗДЕСЬ --"
   ]
  },
  {
   "cell_type": "code",
   "execution_count": 681,
   "metadata": {},
   "outputs": [
    {
     "data": {
      "text/html": [
       "<div>\n",
       "<style scoped>\n",
       "    .dataframe tbody tr th:only-of-type {\n",
       "        vertical-align: middle;\n",
       "    }\n",
       "\n",
       "    .dataframe tbody tr th {\n",
       "        vertical-align: top;\n",
       "    }\n",
       "\n",
       "    .dataframe thead th {\n",
       "        text-align: right;\n",
       "    }\n",
       "</style>\n",
       "<table border=\"1\" class=\"dataframe\">\n",
       "  <thead>\n",
       "    <tr style=\"text-align: right;\">\n",
       "      <th></th>\n",
       "      <th>genre</th>\n",
       "      <th>w1</th>\n",
       "      <th>w2</th>\n",
       "      <th>w3</th>\n",
       "    </tr>\n",
       "  </thead>\n",
       "  <tbody>\n",
       "    <tr>\n",
       "      <th>0</th>\n",
       "      <td>комедия</td>\n",
       "      <td>сатирический</td>\n",
       "      <td>авантюрный</td>\n",
       "      <td>забавный</td>\n",
       "    </tr>\n",
       "    <tr>\n",
       "      <th>1</th>\n",
       "      <td>мелодрама</td>\n",
       "      <td>выбор</td>\n",
       "      <td>позор</td>\n",
       "      <td>None</td>\n",
       "    </tr>\n",
       "    <tr>\n",
       "      <th>2</th>\n",
       "      <td>сказка</td>\n",
       "      <td>приключения</td>\n",
       "      <td>милый</td>\n",
       "      <td>семейный</td>\n",
       "    </tr>\n",
       "    <tr>\n",
       "      <th>3</th>\n",
       "      <td>детектив</td>\n",
       "      <td>тайна</td>\n",
       "      <td>разгадать</td>\n",
       "      <td>загадочный</td>\n",
       "    </tr>\n",
       "    <tr>\n",
       "      <th>4</th>\n",
       "      <td>триллер</td>\n",
       "      <td>ужас</td>\n",
       "      <td>зловещий</td>\n",
       "      <td>нерв</td>\n",
       "    </tr>\n",
       "  </tbody>\n",
       "</table>\n",
       "</div>"
      ],
      "text/plain": [
       "       genre            w1          w2          w3\n",
       "0    комедия  сатирический  авантюрный    забавный\n",
       "1  мелодрама         выбор       позор        None\n",
       "2     сказка   приключения       милый    семейный\n",
       "3   детектив         тайна   разгадать  загадочный\n",
       "4    триллер          ужас    зловещий        нерв"
      ]
     },
     "execution_count": 681,
     "metadata": {},
     "output_type": "execute_result"
    }
   ],
   "source": [
    "genres_df = pd.DataFrame.from_dict(genre_dict, orient='index', columns=['w1', 'w2', 'w3'])\n",
    "genres_df = genres_df.reset_index().rename(columns={'index': 'genre'})\n",
    "genres_df\n"
   ]
  },
  {
   "cell_type": "code",
   "execution_count": 702,
   "metadata": {},
   "outputs": [],
   "source": [
    "col1, col2 = itertools.tee(['w1', 'w2', 'w3'])\n",
    "new1 = pd.merge(word_count_df[['doc_id', 'word']], genres_df[['w1', 'genre']], how='inner', left_on='word', right_on='w1').rename(columns={'genre': 'genre1'})[['doc_id', 'genre1' ]]\n",
    "new2 = pd.merge(word_count_df[['doc_id', 'word']], genres_df[['w2', 'genre']], how='inner', left_on='word', right_on='w2').rename(columns={'genre': 'genre2'})[['doc_id', 'genre2' ]]\n",
    "new3 = pd.merge(word_count_df[['doc_id', 'word']], genres_df[['w3', 'genre']], how='inner', left_on='word', right_on='w3').rename(columns={'genre': 'genre3'})[['doc_id', 'genre3' ]]\n"
   ]
  },
  {
   "cell_type": "code",
   "execution_count": 722,
   "metadata": {},
   "outputs": [
    {
     "data": {
      "text/html": [
       "<div>\n",
       "<style scoped>\n",
       "    .dataframe tbody tr th:only-of-type {\n",
       "        vertical-align: middle;\n",
       "    }\n",
       "\n",
       "    .dataframe tbody tr th {\n",
       "        vertical-align: top;\n",
       "    }\n",
       "\n",
       "    .dataframe thead th {\n",
       "        text-align: right;\n",
       "    }\n",
       "</style>\n",
       "<table border=\"1\" class=\"dataframe\">\n",
       "  <thead>\n",
       "    <tr style=\"text-align: right;\">\n",
       "      <th></th>\n",
       "      <th>doc_id</th>\n",
       "      <th>genre</th>\n",
       "    </tr>\n",
       "  </thead>\n",
       "  <tbody>\n",
       "    <tr>\n",
       "      <th>0</th>\n",
       "      <td>0</td>\n",
       "      <td>детектив</td>\n",
       "    </tr>\n",
       "    <tr>\n",
       "      <th>1</th>\n",
       "      <td>0</td>\n",
       "      <td>детектив триллер</td>\n",
       "    </tr>\n",
       "    <tr>\n",
       "      <th>2</th>\n",
       "      <td>6</td>\n",
       "      <td>триллер</td>\n",
       "    </tr>\n",
       "    <tr>\n",
       "      <th>3</th>\n",
       "      <td>2</td>\n",
       "      <td>мелодрама</td>\n",
       "    </tr>\n",
       "    <tr>\n",
       "      <th>4</th>\n",
       "      <td>3</td>\n",
       "      <td>комедия</td>\n",
       "    </tr>\n",
       "    <tr>\n",
       "      <th>5</th>\n",
       "      <td>1</td>\n",
       "      <td>сказка</td>\n",
       "    </tr>\n",
       "    <tr>\n",
       "      <th>6</th>\n",
       "      <td>4</td>\n",
       "      <td>комедия</td>\n",
       "    </tr>\n",
       "  </tbody>\n",
       "</table>\n",
       "</div>"
      ],
      "text/plain": [
       "   doc_id             genre\n",
       "0       0          детектив\n",
       "1       0  детектив триллер\n",
       "2       6           триллер\n",
       "3       2         мелодрама\n",
       "4       3           комедия\n",
       "5       1            сказка\n",
       "6       4           комедия"
      ]
     },
     "execution_count": 722,
     "metadata": {},
     "output_type": "execute_result"
    }
   ],
   "source": [
    "\n",
    "genres_df_fin = pd.merge(pd.merge(new1, new2, on='doc_id', how='outer'), new2, on='doc_id', how='outer').fillna('')\n",
    "genres_df_fin['genre_fin'] = genres_df_fin.apply(lambda genres_df_fin: ' '.join(list(set([str(genres_df_fin.genre1), str(genres_df_fin.genre2_x), str(genres_df_fin.genre2_y)]))), axis=1)\n",
    "genres_df_fin[['doc_id', 'genre_fin']].rename(columns={'genre_fin': 'genre'})\n",
    "\n"
   ]
  },
  {
   "cell_type": "code",
   "execution_count": null,
   "metadata": {},
   "outputs": [],
   "source": []
  },
  {
   "cell_type": "code",
   "execution_count": null,
   "metadata": {},
   "outputs": [],
   "source": []
  },
  {
   "cell_type": "code",
   "execution_count": null,
   "metadata": {},
   "outputs": [],
   "source": []
  },
  {
   "cell_type": "code",
   "execution_count": null,
   "metadata": {},
   "outputs": [],
   "source": []
  }
 ],
 "metadata": {
  "colab": {
   "collapsed_sections": [],
   "name": "Работа со строками. Домашняя работа.ipynb",
   "provenance": []
  },
  "kernelspec": {
   "display_name": "Python 3",
   "language": "python",
   "name": "python3"
  },
  "language_info": {
   "codemirror_mode": {
    "name": "ipython",
    "version": 3
   },
   "file_extension": ".py",
   "mimetype": "text/x-python",
   "name": "python",
   "nbconvert_exporter": "python",
   "pygments_lexer": "ipython3",
   "version": "3.8.8"
  }
 },
 "nbformat": 4,
 "nbformat_minor": 1
}
